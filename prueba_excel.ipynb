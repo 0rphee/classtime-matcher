{
 "cells": [
  {
   "cell_type": "code",
   "execution_count": 99,
   "metadata": {},
   "outputs": [],
   "source": [
    "import pandas as pd"
   ]
  },
  {
   "cell_type": "code",
   "execution_count": 100,
   "metadata": {},
   "outputs": [],
   "source": [
    "horarios = [[\"POO\", \"Ivan\", \"025\", \"17:30-19:00\", \"17:30-19:00\", \"NULL\", \"17:30-19:00\", \"NULL\", \"NULL\", \"NULL\"],\n",
    "           [\"PA\", \"Giovanny\", \"022\", \"10:00-11:30\", \"NULL\", \"NULL\", \"10:00-11:30\", \"10:00-11:30\", \"NULL\", \"NULL\"], \n",
    "           [\"Algebra lineal\", \"Raul\", \"021\", \"08:30-10:00\", \"NULL\", \"NULL\", \"08:30-10:00\", \"08:30-10:00\", \"NULL\", \"NULL\"]]"
   ]
  },
  {
   "cell_type": "code",
   "execution_count": 101,
   "metadata": {},
   "outputs": [],
   "source": [
    "#Creates DataFrame with the information of each class organized by columns\n",
    "def crear_dataframe (lista):\n",
    "    columnas = [\"SUBJECT\", \"PROFESSOR\", \"KEY CLASS\", \"MONDAY\", \"TUESDAY\", \"WEDNESDAY\", \"THURSDAY\", \"FRIDAY\", \"SATURDAY\", \"SUNDAY\"]\n",
    "    df = pd.DataFrame(horarios, columns=columnas)\n",
    "\n",
    "    return df"
   ]
  },
  {
   "cell_type": "code",
   "execution_count": 102,
   "metadata": {},
   "outputs": [
    {
     "data": {
      "text/html": [
       "<div>\n",
       "<style scoped>\n",
       "    .dataframe tbody tr th:only-of-type {\n",
       "        vertical-align: middle;\n",
       "    }\n",
       "\n",
       "    .dataframe tbody tr th {\n",
       "        vertical-align: top;\n",
       "    }\n",
       "\n",
       "    .dataframe thead th {\n",
       "        text-align: right;\n",
       "    }\n",
       "</style>\n",
       "<table border=\"1\" class=\"dataframe\">\n",
       "  <thead>\n",
       "    <tr style=\"text-align: right;\">\n",
       "      <th></th>\n",
       "      <th>SUBJECT</th>\n",
       "      <th>PROFESSOR</th>\n",
       "      <th>KEY CLASS</th>\n",
       "      <th>MONDAY</th>\n",
       "      <th>TUESDAY</th>\n",
       "      <th>WEDNESDAY</th>\n",
       "      <th>THURSDAY</th>\n",
       "      <th>FRIDAY</th>\n",
       "      <th>SATURDAY</th>\n",
       "      <th>SUNDAY</th>\n",
       "    </tr>\n",
       "  </thead>\n",
       "  <tbody>\n",
       "    <tr>\n",
       "      <th>0</th>\n",
       "      <td>POO</td>\n",
       "      <td>Ivan</td>\n",
       "      <td>025</td>\n",
       "      <td>17:30-19:00</td>\n",
       "      <td>17:30-19:00</td>\n",
       "      <td>NULL</td>\n",
       "      <td>17:30-19:00</td>\n",
       "      <td>NULL</td>\n",
       "      <td>NULL</td>\n",
       "      <td>NULL</td>\n",
       "    </tr>\n",
       "    <tr>\n",
       "      <th>1</th>\n",
       "      <td>PA</td>\n",
       "      <td>Giovanny</td>\n",
       "      <td>022</td>\n",
       "      <td>10:00-11:30</td>\n",
       "      <td>NULL</td>\n",
       "      <td>NULL</td>\n",
       "      <td>10:00-11:30</td>\n",
       "      <td>10:00-11:30</td>\n",
       "      <td>NULL</td>\n",
       "      <td>NULL</td>\n",
       "    </tr>\n",
       "    <tr>\n",
       "      <th>2</th>\n",
       "      <td>Algebra lineal</td>\n",
       "      <td>Raul</td>\n",
       "      <td>021</td>\n",
       "      <td>08:30-10:00</td>\n",
       "      <td>NULL</td>\n",
       "      <td>NULL</td>\n",
       "      <td>08:30-10:00</td>\n",
       "      <td>08:30-10:00</td>\n",
       "      <td>NULL</td>\n",
       "      <td>NULL</td>\n",
       "    </tr>\n",
       "  </tbody>\n",
       "</table>\n",
       "</div>"
      ],
      "text/plain": [
       "          SUBJECT PROFESSOR KEY CLASS       MONDAY      TUESDAY WEDNESDAY   \n",
       "0             POO      Ivan       025  17:30-19:00  17:30-19:00      NULL  \\\n",
       "1              PA  Giovanny       022  10:00-11:30         NULL      NULL   \n",
       "2  Algebra lineal      Raul       021  08:30-10:00         NULL      NULL   \n",
       "\n",
       "      THURSDAY       FRIDAY SATURDAY SUNDAY  \n",
       "0  17:30-19:00         NULL     NULL   NULL  \n",
       "1  10:00-11:30  10:00-11:30     NULL   NULL  \n",
       "2  08:30-10:00  08:30-10:00     NULL   NULL  "
      ]
     },
     "execution_count": 102,
     "metadata": {},
     "output_type": "execute_result"
    }
   ],
   "source": [
    "crear_dataframe(horarios)"
   ]
  },
  {
   "cell_type": "code",
   "execution_count": 103,
   "metadata": {},
   "outputs": [],
   "source": [
    "#Creates an Excel file from the DataFrame\n",
    "def crear_excel(df, file):\n",
    "    #The index column is excluded \n",
    "    df.to_excel(file, index=False)\n",
    "    print(\"The Excel file has been created\")"
   ]
  },
  {
   "cell_type": "code",
   "execution_count": 104,
   "metadata": {},
   "outputs": [],
   "source": [
    "df = crear_dataframe(horarios)\n",
    "file = 'schedule.xlsx'"
   ]
  },
  {
   "cell_type": "code",
   "execution_count": 105,
   "metadata": {},
   "outputs": [
    {
     "name": "stdout",
     "output_type": "stream",
     "text": [
      "The Excel file has been created\n"
     ]
    }
   ],
   "source": [
    "crear_excel(df, file)"
   ]
  }
 ],
 "metadata": {
  "kernelspec": {
   "display_name": "proj-venv",
   "language": "python",
   "name": "python3"
  },
  "language_info": {
   "codemirror_mode": {
    "name": "ipython",
    "version": 3
   },
   "file_extension": ".py",
   "mimetype": "text/x-python",
   "name": "python",
   "nbconvert_exporter": "python",
   "pygments_lexer": "ipython3",
   "version": "3.11.0"
  },
  "orig_nbformat": 4
 },
 "nbformat": 4,
 "nbformat_minor": 2
}
